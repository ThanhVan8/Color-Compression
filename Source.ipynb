{
 "cells": [
  {
   "cell_type": "code",
   "execution_count": 1,
   "id": "1d22bc99",
   "metadata": {},
   "outputs": [],
   "source": [
    "import numpy as np\n",
    "from PIL import Image\n",
    "import matplotlib.pyplot as plt"
   ]
  },
  {
   "cell_type": "code",
   "execution_count": 2,
   "id": "0b5cb65f",
   "metadata": {},
   "outputs": [],
   "source": [
    "def kmeans(img_1d, k_clusters, max_iter, init_centroids='random'):\n",
    "    centroids = np.array([])\n",
    "    if init_centroids == 'random':\n",
    "        centroids = np.random.randint(256, size = (k_clusters, img_1d.shape[1]))\n",
    "    elif init_centroids == 'in_pixels':\n",
    "        centroids = img_1d[np.random.choice(img_1d.shape[0], size = k_clusters, replace=False)]\n",
    "    \n",
    "    iteration = 0\n",
    "    prevCentroids = np.array([])\n",
    "    labels = np.zeros(img_1d.shape[0])\n",
    "    while iteration < max_iter and np.array_equal(centroids, prevCentroids) is False:\n",
    "        prevCentroids = np.copy(centroids)\n",
    "        for i in range(img_1d.shape[0]):\n",
    "            labels[i] = np.argmin(np.linalg.norm(img_1d[i] - centroids, axis = 1), axis=0)\n",
    "        for i in range(k_clusters):\n",
    "            clusters = img_1d[np.where(labels == i)[0]]\n",
    "            if np.any(clusters):\n",
    "                newCent = np.mean(clusters, axis=0)\n",
    "                centroids[i] = newCent\n",
    "\n",
    "        iteration += 1\n",
    "        \n",
    "    return centroids, labels"
   ]
  },
  {
   "cell_type": "code",
   "execution_count": null,
   "id": "fd374c7e",
   "metadata": {},
   "outputs": [],
   "source": [
    "if __name__==\"__main__\":\n",
    "    imgPath = input(\"Image path: \")\n",
    "    img = Image.open(imgPath)\n",
    "    imgNameOut = input(\"Image name output: \")\n",
    "    imgType = input(\"Save image as 'png' or 'pdf'? \")\n",
    "    img = img.convert(\"RGB\")\n",
    "    img = np.array(img)\n",
    "\n",
    "    plt.figure()\n",
    "    plt.title('Before compress')\n",
    "    plt.imshow(img)\n",
    "    plt.show()\n",
    "    imgHeight, imgWidth, imgChannel = img.shape\n",
    "    img = img.reshape(imgHeight*imgWidth, imgChannel)\n",
    "    \n",
    "    k_clusters = 3\n",
    "\n",
    "    max_iter = 10\n",
    "\n",
    "    centroids, labels = kmeans(img, k_clusters, max_iter, 'random')\n",
    "    for i in range(len(img)):\n",
    "        idxTmp = int(labels[i])\n",
    "        img[i] = centroids[idxTmp]\n",
    "    \n",
    "    img = img.reshape(imgHeight, imgWidth, imgChannel)\n",
    "    Image.fromarray(img, 'RGB').save(imgNameOut + \".\" + imgType)\n",
    "    plt.figure()\n",
    "    plt.title('After compress')\n",
    "    plt.imshow(img)\n",
    "    plt.show()"
   ]
  }
 ],
 "metadata": {
  "kernelspec": {
   "display_name": "Python 3 (ipykernel)",
   "language": "python",
   "name": "python3"
  },
  "language_info": {
   "codemirror_mode": {
    "name": "ipython",
    "version": 3
   },
   "file_extension": ".py",
   "mimetype": "text/x-python",
   "name": "python",
   "nbconvert_exporter": "python",
   "pygments_lexer": "ipython3",
   "version": "3.10.9"
  }
 },
 "nbformat": 4,
 "nbformat_minor": 5
}
